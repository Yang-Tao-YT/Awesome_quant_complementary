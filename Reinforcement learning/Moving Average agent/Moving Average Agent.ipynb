{
 "cells": [
  {
   "cell_type": "markdown",
   "metadata": {},
   "source": [
    "# Enjoy"
   ]
  },
  {
   "cell_type": "code",
   "execution_count": 20,
   "metadata": {},
   "outputs": [],
   "source": [
    "import numpy as np\n",
    "from numpy.random import choice\n",
    "import pandas as pd\n",
    "import matplotlib.pyplot as plt\n",
    "import seaborn as sns\n",
    "from pandas_datareader import data as pdr\n",
    "import yfinance as yf"
   ]
  },
  {
   "cell_type": "code",
   "execution_count": 21,
   "metadata": {},
   "outputs": [],
   "source": [
    "df = pdr.get_data_yahoo(\"AAPL\", start=\"2019-01-01\" , end = '2021-01-01')"
   ]
  },
  {
   "cell_type": "code",
   "execution_count": 22,
   "metadata": {},
   "outputs": [
    {
     "data": {
      "text/html": [
       "<div>\n",
       "<style scoped>\n",
       "    .dataframe tbody tr th:only-of-type {\n",
       "        vertical-align: middle;\n",
       "    }\n",
       "\n",
       "    .dataframe tbody tr th {\n",
       "        vertical-align: top;\n",
       "    }\n",
       "\n",
       "    .dataframe thead th {\n",
       "        text-align: right;\n",
       "    }\n",
       "</style>\n",
       "<table border=\"1\" class=\"dataframe\">\n",
       "  <thead>\n",
       "    <tr style=\"text-align: right;\">\n",
       "      <th></th>\n",
       "      <th>signal</th>\n",
       "      <th>short_ma</th>\n",
       "      <th>long_ma</th>\n",
       "      <th>positions_change</th>\n",
       "    </tr>\n",
       "    <tr>\n",
       "      <th>Date</th>\n",
       "      <th></th>\n",
       "      <th></th>\n",
       "      <th></th>\n",
       "      <th></th>\n",
       "    </tr>\n",
       "  </thead>\n",
       "  <tbody>\n",
       "    <tr>\n",
       "      <th>2019-01-02</th>\n",
       "      <td>0.0</td>\n",
       "      <td>39.480000</td>\n",
       "      <td>39.480000</td>\n",
       "      <td>NaN</td>\n",
       "    </tr>\n",
       "    <tr>\n",
       "      <th>2019-01-03</th>\n",
       "      <td>0.0</td>\n",
       "      <td>37.513750</td>\n",
       "      <td>37.513750</td>\n",
       "      <td>0.0</td>\n",
       "    </tr>\n",
       "    <tr>\n",
       "      <th>2019-01-04</th>\n",
       "      <td>0.0</td>\n",
       "      <td>37.364166</td>\n",
       "      <td>37.364166</td>\n",
       "      <td>0.0</td>\n",
       "    </tr>\n",
       "    <tr>\n",
       "      <th>2019-01-07</th>\n",
       "      <td>0.0</td>\n",
       "      <td>37.268749</td>\n",
       "      <td>37.268749</td>\n",
       "      <td>0.0</td>\n",
       "    </tr>\n",
       "    <tr>\n",
       "      <th>2019-01-08</th>\n",
       "      <td>0.0</td>\n",
       "      <td>37.352499</td>\n",
       "      <td>37.352499</td>\n",
       "      <td>0.0</td>\n",
       "    </tr>\n",
       "    <tr>\n",
       "      <th>...</th>\n",
       "      <td>...</td>\n",
       "      <td>...</td>\n",
       "      <td>...</td>\n",
       "      <td>...</td>\n",
       "    </tr>\n",
       "    <tr>\n",
       "      <th>2020-12-24</th>\n",
       "      <td>1.0</td>\n",
       "      <td>126.941667</td>\n",
       "      <td>121.850857</td>\n",
       "      <td>0.0</td>\n",
       "    </tr>\n",
       "    <tr>\n",
       "      <th>2020-12-28</th>\n",
       "      <td>1.0</td>\n",
       "      <td>128.184167</td>\n",
       "      <td>122.355429</td>\n",
       "      <td>0.0</td>\n",
       "    </tr>\n",
       "    <tr>\n",
       "      <th>2020-12-29</th>\n",
       "      <td>1.0</td>\n",
       "      <td>129.153334</td>\n",
       "      <td>122.817714</td>\n",
       "      <td>0.0</td>\n",
       "    </tr>\n",
       "    <tr>\n",
       "      <th>2020-12-30</th>\n",
       "      <td>1.0</td>\n",
       "      <td>130.095833</td>\n",
       "      <td>123.314857</td>\n",
       "      <td>0.0</td>\n",
       "    </tr>\n",
       "    <tr>\n",
       "      <th>2020-12-31</th>\n",
       "      <td>1.0</td>\n",
       "      <td>131.005000</td>\n",
       "      <td>123.792571</td>\n",
       "      <td>0.0</td>\n",
       "    </tr>\n",
       "  </tbody>\n",
       "</table>\n",
       "<p>505 rows × 4 columns</p>\n",
       "</div>"
      ],
      "text/plain": [
       "            signal    short_ma     long_ma  positions_change\n",
       "Date                                                        \n",
       "2019-01-02     0.0   39.480000   39.480000               NaN\n",
       "2019-01-03     0.0   37.513750   37.513750               0.0\n",
       "2019-01-04     0.0   37.364166   37.364166               0.0\n",
       "2019-01-07     0.0   37.268749   37.268749               0.0\n",
       "2019-01-08     0.0   37.352499   37.352499               0.0\n",
       "...            ...         ...         ...               ...\n",
       "2020-12-24     1.0  126.941667  121.850857               0.0\n",
       "2020-12-28     1.0  128.184167  122.355429               0.0\n",
       "2020-12-29     1.0  129.153334  122.817714               0.0\n",
       "2020-12-30     1.0  130.095833  123.314857               0.0\n",
       "2020-12-31     1.0  131.005000  123.792571               0.0\n",
       "\n",
       "[505 rows x 4 columns]"
      ]
     },
     "execution_count": 22,
     "metadata": {},
     "output_type": "execute_result"
    }
   ],
   "source": [
    "short_window = int(0.025 * len(df))\n",
    "long_window = int(0.07 * len(df))\n",
    "\n",
    "signals = pd.DataFrame(index=df.index)\n",
    "signals['signal'] = 0.0\n",
    "# calculate moving average\n",
    "signals['short_ma'] = df['Close'].rolling(window=short_window, min_periods=1, center=False).mean()\n",
    "signals['long_ma'] = df['Close'].rolling(window=long_window, min_periods=1, center=False).mean()\n",
    "# use scale of short ma and long ma as trading signal\n",
    "signals['signal'][short_window:] = np.where(signals['short_ma'][short_window:] \n",
    "                                            > signals['long_ma'][short_window:], 1.0, 0.0) \n",
    "# switch from one signal to another\n",
    "signals['positions_change'] = signals['signal'].diff() \n",
    "\n",
    "signals"
   ]
  },
  {
   "cell_type": "code",
   "execution_count": 23,
   "metadata": {},
   "outputs": [],
   "source": [
    "def buy_stock(\n",
    "    historical_movement,\n",
    "    signal,\n",
    "    initial_money = 10000,\n",
    "    max_buy = 15,\n",
    "    max_sell = 10,\n",
    "):\n",
    "    \"\"\"\n",
    "    when the signal is on, the agent trade random shares from range(max_buy) and range(max_share)\n",
    "    \n",
    "    historical_movement = historical movement\n",
    "    min_holding_period = minimum interval between decision of buy and sell, vice versa\n",
    "    state = 1 is buy, 0 is sell\n",
    "    initial_money = 10000\n",
    "    max_buy = max shares to buy, i long the market and growth of market thus i set max buy > max sell\n",
    "    max_sell = max shares to sell\n",
    "    \"\"\"\n",
    "    starting_money = initial_money\n",
    "    states_sell = []\n",
    "    states_buy = []\n",
    "    current_inventory = 0\n",
    "\n",
    "    def buy(i, initial_money, current_inventory):\n",
    "        shares = initial_money // historical_movement[i]\n",
    "        if shares < 1:\n",
    "            print(\n",
    "                'day {}: total remain balances {:.2f}, not enough money to buy a unit price {:.2f}'\n",
    "                .format (i, initial_money, historical_movement[i])\n",
    "            )\n",
    "        else:\n",
    "            current_buy = choice (range(2,max_buy+1))\n",
    "            if shares > current_buy:\n",
    "                buy_units = current_buy\n",
    "            else:\n",
    "                buy_units = shares\n",
    "            initial_money -= buy_units * historical_movement[i]\n",
    "            current_inventory += buy_units\n",
    "            print(\n",
    "                'day {}: buy {} units at price {:.2f}, total remain balance {:.2f}'\n",
    "                .format(i, buy_units, buy_units * historical_movement[i], initial_money)\n",
    "            )\n",
    "            states_buy.append(0)\n",
    "        return initial_money, current_inventory\n",
    "\n",
    "    for i in range(historical_movement.shape[0] - int(0.025 * len(df))):\n",
    "        state = signal[i]\n",
    "        if state == 1:\n",
    "            initial_money, current_inventory = buy(\n",
    "                i, initial_money, current_inventory\n",
    "            )\n",
    "            states_buy.append(i)\n",
    "        elif state == -1:\n",
    "            if current_inventory == 0:\n",
    "                    print('day {}: cannot sell anything, inventory 0' .format (i))\n",
    "            else:\n",
    "                current_sell = choice(range(1,max_sell+1))\n",
    "                if current_inventory > current_sell:\n",
    "                    sell_units = current_sell\n",
    "                else:\n",
    "                    sell_units = choice(range(1,current_inventory+1))\n",
    "                current_inventory -= sell_units\n",
    "                total_sell = sell_units * historical_movement[i]\n",
    "                initial_money += total_sell\n",
    "                try:\n",
    "                    invest = (\n",
    "                        (historical_movement[i] - historical_movement[states_buy[-1]])\n",
    "                        / historical_movement[states_buy[-1]]\n",
    "                    ) \n",
    "                except:\n",
    "                    invest = 0\n",
    "                print(\n",
    "                    'day {}: sell {} units at price {:.2f}, investment {:.2%}, total remain balance {:.2f},'\n",
    "                    .format (i, sell_units, total_sell, invest, initial_money)\n",
    "                )\n",
    "            states_sell.append(i)\n",
    "    initial_money += current_inventory * historical_movement.iloc[-1]\n",
    "    invest = ((initial_money - starting_money) / starting_money) \n",
    "    total_gains = initial_money - starting_money\n",
    "    return states_buy, states_sell, total_gains, invest"
   ]
  },
  {
   "cell_type": "code",
   "execution_count": 24,
   "metadata": {},
   "outputs": [
    {
     "name": "stdout",
     "output_type": "stream",
     "text": [
      "day 13: buy 9 units at price 344.93, total remain balance 9655.07\n",
      "day 94: sell 5 units at price 236.25, investment 23.29%, total remain balance 9891.32,\n",
      "day 116: buy 11 units at price 544.14, total remain balance 9347.18\n",
      "day 155: sell 6 units at price 304.12, investment 2.47%, total remain balance 9651.31,\n",
      "day 161: buy 7 units at price 371.81, total remain balance 9279.50\n",
      "day 289: sell 3 units at price 219.49, investment 37.74%, total remain balance 9498.99,\n",
      "day 324: buy 4 units at price 286.69, total remain balance 9212.30\n",
      "day 432: sell 1 units at price 106.84, investment 49.07%, total remain balance 9319.14,\n",
      "day 451: buy 13 units at price 1569.23, total remain balance 7749.91\n",
      "day 464: sell 7 units at price 773.08, investment -8.51%, total remain balance 8522.99,\n",
      "day 474: buy 10 units at price 1193.90, total remain balance 7329.09\n"
     ]
    }
   ],
   "source": [
    "states_buy, states_sell, total_gains, invest = buy_stock(df.Close, signals['positions_change'])"
   ]
  },
  {
   "cell_type": "code",
   "execution_count": 25,
   "metadata": {},
   "outputs": [
    {
     "data": {
      "image/png": "[encoded data removed]",
      "text/plain": [
       "<Figure size 1080x360 with 1 Axes>"
      ]
     },
     "metadata": {
      "needs_background": "light"
     },
     "output_type": "display_data"
    }
   ],
   "source": [
    "close = df['Close']\n",
    "fig = plt.figure(figsize = (15,5))\n",
    "plt.plot(close, color='r', lw=2.)\n",
    "plt.plot(close, '^', markersize=12, color='m', label = 'buying signal', markevery = states_buy)\n",
    "plt.plot(close, 'v', markersize=8, color='k', label = 'selling signal', markevery = states_sell)\n",
    "plt.title('total gains: {:.2f} AAPL in period from 2019-01-01 to 2021-01-01, total investment gain:{:.2%}'.format(total_gains, invest))\n",
    "plt.legend()\n",
    "plt.show()"
   ]
  },
  {
   "cell_type": "code",
   "execution_count": null,
   "metadata": {},
   "outputs": [],
   "source": []
  }
 ],
 "metadata": {
  "kernelspec": {
   "display_name": "Python 3",
   "language": "python",
   "name": "python3"
  },
  "language_info": {
   "codemirror_mode": {
    "name": "ipython",
    "version": 3
   },
   "file_extension": ".py",
   "mimetype": "text/x-python",
   "name": "python",
   "nbconvert_exporter": "python",
   "pygments_lexer": "ipython3",
   "version": "3.7.6"
  },
  "varInspector": {
   "cols": {
    "lenName": 16,
    "lenType": 16,
    "lenVar": 40
   },
   "kernels_config": {
    "python": {
     "delete_cmd_postfix": "",
     "delete_cmd_prefix": "del ",
     "library": "var_list.py",
     "varRefreshCmd": "print(var_dic_list())"
    },
    "r": {
     "delete_cmd_postfix": ") ",
     "delete_cmd_prefix": "rm(",
     "library": "var_list.r",
     "varRefreshCmd": "cat(var_dic_list()) "
    }
   },
   "oldHeight": 325,
   "position": {
    "height": "40px",
    "left": "1096px",
    "right": "20px",
    "top": "120px",
    "width": "324px"
   },
   "types_to_exclude": [
    "module",
    "function",
    "builtin_function_or_method",
    "instance",
    "_Feature"
   ],
   "varInspector_section_display": "none",
   "window_display": true
  }
 },
 "nbformat": 4,
 "nbformat_minor": 4
}
